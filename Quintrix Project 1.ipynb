{
 "cells": [
  {
   "cell_type": "code",
   "execution_count": 2,
   "metadata": {},
   "outputs": [],
   "source": [
    "# Requirement.\n",
    "# 1. Connect to sql database using python.\n",
    "import psycopg2\n",
    "import pandas as pd\n",
    "\n",
    "\n",
    "hostname = 'localhost'\n",
    "username = 'postgres'\n",
    "password = 'Brave37hill99$'\n",
    "database = 'second database'\n",
    "myConnection = psycopg2.connect( host=hostname, user=username, password=password, dbname=database )\n",
    "myConnection.close()"
   ]
  },
  {
   "cell_type": "code",
   "execution_count": 3,
   "metadata": {},
   "outputs": [],
   "source": [
    "# 2. Create dataframe by selecting all the cards_ingest.tran_fact\n",
    "\n",
    "mycursor = myConnection()\n",
    "\n",
    "mycursor.execute(\"SELECT*FROM cards_ingest.tran_fact\")\n",
    "\n",
    "myresult = mycursor.fetchall()\n",
    "\n",
    "for x in myresult:\n",
    "    print(x)\n"
   ]
  },
  {
   "cell_type": "code",
   "execution_count": 4,
   "metadata": {},
   "outputs": [],
   "source": [
    "# 3. if the any state has NUll , replace it with TX\n",
    "\n",
    "mycursor = myConnection()\n",
    "\n",
    "mycursor.execute(\"SELECT stat_cd FROM cards_ingest.tran_fact\")\n",
    "\n",
    "def makeTX():\n",
    "    if 'stat_cd' = 'NULL':\n",
    "        'stat_cd' = 'TX'\n",
    "\n",
    "def makeTX()\n",
    "\n"
   ]
  },
  {
   "cell_type": "code",
   "execution_count": 5,
   "metadata": {},
   "outputs": [],
   "source": [
    "# 4. Create another col as commison = tran_ammt*.4\n",
    "mycursor = myConnection()\n",
    "\n",
    "query = 'ALTER TABLE cards_ingest.tran_fact ADD commison VARCHAR(100)'\n",
    "\n",
    "mycursor.execute(query)\n",
    "\n",
    "myConnection.close()"
   ]
  },
  {
   "cell_type": "code",
   "execution_count": 6,
   "metadata": {},
   "outputs": [],
   "source": [
    "# 5. Create another table as cards_ingest.tran_fact with one extra col\n",
    "mycursor = myConnection()\n",
    "\n",
    "sql = '''CREATE TABLE cards_ingest.cust_dim_details(\n",
    "    tran_id int,\n",
    "    cust_id VARCHAR(10),\n",
    "    stat_cd VARCHAR(2)\n",
    "    tran_ammt decimal(10,2),\n",
    "    tran_date date\n",
    "    cust_name TEXT)'''\n",
    "\n",
    "mycursor.execute(sql)\n",
    "myConnection.close()\n",
    "\n",
    "\n"
   ]
  },
  {
   "cell_type": "code",
   "execution_count": 7,
   "metadata": {},
   "outputs": [],
   "source": [
    "# 6. Checkk if any null value still exists after the change.\n",
    "mycursor = myConnection()\n",
    "\n",
    "sql = '''SELECT* FROM cards_ingest.cust_dim_details\n",
    "        WHERE (tran_id IS NULL or cust_id IS NULL or stat_cd IS NULL or tran_ammt IS NULL or tran_date IS NULL or cust_name IS NULL)'''\n",
    "\n",
    "mycursor.execute(sql)\n",
    "myConnection.close()\n"
   ]
  },
  {
   "cell_type": "code",
   "execution_count": 8,
   "metadata": {},
   "outputs": [],
   "source": [
    "# 7. Load Data to the new table.\n",
    "mycursor = myConnection.cursor()\n",
    "\n",
    "\n",
    "sql = '''INSERT INTO cards_ingest.cust_dim_details(tran_id,cust_id,stat_cd,tran_ammt,tran_date,cust_name)\n",
    "        VALUES(123456, cust_202, 'AZ',1234, to_date('2023-01-01','yyyy-mm-dd'),'Jake')'''\n",
    "\n",
    "mycursor.execute(sql)\n",
    "myConnection.commit()\n",
    "\n"
   ]
  },
  {
   "cell_type": "code",
   "execution_count": 9,
   "metadata": {},
   "outputs": [],
   "source": [
    "# 8. Compare the record count from two tables to make sure that same number of records have been loaded.\n",
    "mycursor = myConnection.cursor()\n",
    "\n",
    "sql = '''SELECT * FROM\n",
    "        (\n",
    "        (SELECT COUNT(*) FROM cards_ingest.tran_fact)\n",
    "        MINUS\n",
    "        (SELECT COUNT(*) FROM cards_ingest.cust_dim_details)\n",
    "        )\n",
    "        UNION ALL\n",
    "        SELECT * FROM\n",
    "        (\n",
    "        (SELECT COUNT(*) FROM cards_ingest.cust_dim_details)MINUS(SELECT COUNT(*) FROM cards_ingets.tran_fact)\n",
    "        )'''\n",
    "\n",
    "mycursor.execute(sql)\n",
    "myConnection.commit()\n",
    "\n"
   ]
  },
  {
   "cell_type": "code",
   "execution_count": null,
   "metadata": {},
   "outputs": [],
   "source": []
  }
 ],
 "metadata": {
  "kernelspec": {
   "display_name": "Python 3",
   "language": "python",
   "name": "python3"
  },
  "language_info": {
   "codemirror_mode": {
    "name": "ipython",
    "version": 3
   },
   "file_extension": ".py",
   "mimetype": "text/x-python",
   "name": "python",
   "nbconvert_exporter": "python",
   "pygments_lexer": "ipython3",
   "version": "3.11.1"
  },
  "orig_nbformat": 4,
  "vscode": {
   "interpreter": {
    "hash": "10852ddfb05765dfe5687b1c2fba9c108825e241482972cf4f7dd1ee409d4abb"
   }
  }
 },
 "nbformat": 4,
 "nbformat_minor": 2
}
